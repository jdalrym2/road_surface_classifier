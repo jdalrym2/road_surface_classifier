{
 "cells": [
  {
   "cell_type": "code",
   "execution_count": 12,
   "metadata": {},
   "outputs": [
    {
     "data": {
      "text/plain": [
       "\" OSM Overpass query to find all drivable roads with a labeled 'surface' tag \""
      ]
     },
     "execution_count": 12,
     "metadata": {},
     "output_type": "execute_result"
    }
   ],
   "source": [
    "\"\"\" OSM Overpass query to find all drivable roads with a labeled 'surface' tag \"\"\""
   ]
  },
  {
   "attachments": {},
   "cell_type": "markdown",
   "metadata": {},
   "source": [
    "Start a docker container to host the OSM Overpass API. This query requires too much data to use any Overpass API that is hosted online."
   ]
  },
  {
   "cell_type": "code",
   "execution_count": 20,
   "metadata": {},
   "outputs": [
    {
     "name": "stdout",
     "output_type": "stream",
     "text": [
      "7b463d293ec20d6fab599eb3b2dd15f0463d89f6192df9ff25a9ec32d8317b6e\n"
     ]
    }
   ],
   "source": [
    "%%bash\n",
    "# https://hub.docker.com/r/wiktorn/overpass-api\n",
    "# http://localhost:12345/api/interpreter\n",
    "docker run \\\n",
    "  -e OVERPASS_META=yes \\\n",
    "  -e OVERPASS_MODE=init \\\n",
    "  -e OVERPASS_PLANET_URL=file:///data/gis/us-latest.osm.bz2 \\\n",
    "  -e OVERPASS_RULES_LOAD=10 \\\n",
    "  -e OVERPASS_SPACE=55000000000 \\\n",
    "  -e OVERPASS_MAX_TIMEOUT=86400 \\\n",
    "  -v /data/gis:/data/gis \\\n",
    "  -v /data/gis/overpass_db:/db \\\n",
    "  -p 12345:80 \\\n",
    "  -d --rm --name overpass_usa wiktorn/overpass-api:latest"
   ]
  },
  {
   "attachments": {},
   "cell_type": "markdown",
   "metadata": {},
   "source": [
    "Let's define a class that will allow us to perform an OSM Overpass API query for drivable road networks:"
   ]
  },
  {
   "cell_type": "code",
   "execution_count": 14,
   "metadata": {},
   "outputs": [],
   "source": [
    "from rsc.osm.overpass_api import OSMOverpassQuery, OSMOverpassResult\n",
    "\n",
    "\n",
    "class OSMCustomOverpassQuery(OSMOverpassQuery):\n",
    "    \"\"\" Custom OSM Overpass API query for (hopefully) drivable road networks \"\"\"\n",
    "\n",
    "    __slots__ = ['_highway_tags']\n",
    "\n",
    "    DEFAULT_HIGHWAY_TAGS = [\n",
    "        'motorway', 'motorway_link', 'motorway_junction', 'trunk',\n",
    "        'trunk_link', 'primary', 'primary_link', 'secondary', 'secondary_link',\n",
    "        'tertiary', 'tertiary_link', 'unclassified', 'residential'\n",
    "    ]\n",
    "\n",
    "    def __init__(self, **kwargs):\n",
    "        super().__init__(**kwargs)\n",
    "        self._highway_tags = kwargs.get('highway_tags',\n",
    "                                        self.DEFAULT_HIGHWAY_TAGS)\n",
    "\n",
    "    def perform_query(self) -> 'OSMOverpassResult':\n",
    "        \"\"\" Perform an OSM Overpass API Request! \"\"\"\n",
    "        return OSMOverpassResult(self._perform_query())\n",
    "\n",
    "    @property\n",
    "    def _query_str(self) -> str:\n",
    "        return f\"\"\"\n",
    "            [out:{self._format}]\n",
    "            [timeout:{self._timeout}]\n",
    "            [maxsize:2147483648];\n",
    "            (way[\"highway\"]\n",
    "            [\"area\"!~\"yes\"]\n",
    "            [\"access\"!~\"private\"]\n",
    "            [\"highway\"~\"{'|'.join(self._highway_tags)}\"]\n",
    "            [\"motor_vehicle\"!~\"no\"]\n",
    "            [\"motorcar\"!~\"no\"]\n",
    "            [\"surface\"!~\"\"]\n",
    "            [\"service\"!~\"alley|driveway|emergency_access|parking|parking_aisle|private\"]\n",
    "            (poly:'{self._poly_query_str}');\n",
    "            >;\n",
    "            );\n",
    "            out;\n",
    "        \"\"\""
   ]
  },
  {
   "attachments": {},
   "cell_type": "markdown",
   "metadata": {},
   "source": [
    "Now we can perform the query:"
   ]
  },
  {
   "cell_type": "code",
   "execution_count": 17,
   "metadata": {},
   "outputs": [
    {
     "name": "stdout",
     "output_type": "stream",
     "text": [
      "OSM data found at /data/gis/us_road_surface/us_w_road_surface.osm\n"
     ]
    }
   ],
   "source": [
    "import pathlib\n",
    "out_path = pathlib.Path('/data/gis/us_road_surface/us_w_road_surface.osm')\n",
    "\n",
    "if not out_path.is_file():\n",
    "    # Setup custom query to local interpreter\n",
    "    # Set a very long timeout\n",
    "    q = OSMCustomOverpassQuery(format='xml', timeout=24 * 60 * 60)\n",
    "    q.set_endpoint('http://localhost:12345/api/interpreter')\n",
    "\n",
    "    # Use rough USA bounds for query\n",
    "    with open('/data/gis/us_wkt.txt', 'r') as f:\n",
    "        us_wkt = f.read()\n",
    "    q.set_poly_from_wkt(us_wkt)\n",
    "\n",
    "    # Perform query and save! This will take a long time.\n",
    "    print('Performing query...')\n",
    "    result = q.perform_query()\n",
    "    print('Saving to file...')\n",
    "    result.to_file(out_path)\n",
    "else:\n",
    "    print('OSM data found at %s' % str(out_path))"
   ]
  },
  {
   "attachments": {},
   "cell_type": "markdown",
   "metadata": {},
   "source": [
    "At this point we can stop our Docker container hosting the Overpass API:"
   ]
  },
  {
   "cell_type": "code",
   "execution_count": 21,
   "metadata": {},
   "outputs": [
    {
     "name": "stdout",
     "output_type": "stream",
     "text": [
      "overpass_usa\n"
     ]
    }
   ],
   "source": [
    "%%bash\n",
    "docker stop overpass_usa"
   ]
  },
  {
   "attachments": {},
   "cell_type": "markdown",
   "metadata": {},
   "source": [
    "And now we use ogr2ogr to convert the OSM file we downloaded to a CSV file for easier GIS processing (the OGR OSM driver is very limited). This can be done in Python too, but the command line tool is easier for simple file conversions."
   ]
  },
  {
   "cell_type": "code",
   "execution_count": 31,
   "metadata": {},
   "outputs": [
    {
     "name": "stdout",
     "output_type": "stream",
     "text": [
      "File found: /data/gis/us_road_surface/us_w_road_surface.gpkg\n"
     ]
    }
   ],
   "source": [
    "%%bash\n",
    "DATA_DIR=/data/gis/us_road_surface\n",
    "OSM_PATH=$DATA_DIR/us_w_road_surface.osm\n",
    "GPKG_PATH=$DATA_DIR/us_w_road_surface.gpkg\n",
    "if [ ! -f $GPKG_PATH ]; then\n",
    "    echo \"Converting $OSM_PATH to $GPKG_PATH...\"\n",
    "    ogr2ogr $GPKG_PATH $OSM_PATH lines\n",
    "else\n",
    "    echo \"File found: $GPKG_PATH\"\n",
    "fi"
   ]
  },
  {
   "attachments": {},
   "cell_type": "markdown",
   "metadata": {},
   "source": [
    "Let's parse the GPKG file to understand what surface types we are dealing with:"
   ]
  },
  {
   "cell_type": "code",
   "execution_count": 1,
   "metadata": {},
   "outputs": [
    {
     "name": "stdout",
     "output_type": "stream",
     "text": [
      "Loading & filtering dataset features...\n"
     ]
    },
    {
     "name": "stderr",
     "output_type": "stream",
     "text": [
      "100%|██████████| 2458128/2458128 [02:16<00:00, 17955.16it/s]\n"
     ]
    }
   ],
   "source": [
    "from osgeo import gdal, osr\n",
    "from tqdm import tqdm\n",
    "\n",
    "# Variable to store feature data that we load\n",
    "feature_data = []\n",
    "\n",
    "# WGS84 Spatial Reference: all of OSM is EPSG:4326\n",
    "srs_wgs84 = osr.SpatialReference()\n",
    "srs_wgs84.ImportFromEPSG(4326)\n",
    "\n",
    "# Dataset is ogr OSM parsed file with \"lines\" layer exported\n",
    "ds = gdal.OpenEx('/data/gis/us_road_surface/us_w_road_surface.gpkg')\n",
    "layer = ds.GetLayer()\n",
    "feature_count = layer.GetFeatureCount()\n",
    "print('Loading & filtering dataset features...')\n",
    "for idx in tqdm(range(feature_count)):\n",
    "    # Get geometry, OSM ID, highway, and surface tag from each way\n",
    "    feature = layer.GetNextFeature()\n",
    "    highway = str(feature.GetField(2))\n",
    "    wkt_str = feature.GetGeometryRef().ExportToWkt()\n",
    "    osm_id = int(feature.GetField(0))\n",
    "    other_tags = str(feature.GetField(8))\n",
    "\n",
    "    # NOTE: parsing the misc. tags field is messy. This is about\n",
    "    # as good as it gets.\n",
    "    tags_dict = dict([[f.replace('\"', '') for f in e.split('\"=>\"')]\n",
    "                        for e in other_tags.split('\",\"')])\n",
    "    surface_type = tags_dict.get('surface', 'unknown')\n",
    "\n",
    "    # Add to the feature data\n",
    "    feature_data.append([osm_id, wkt_str, highway, surface_type])\n",
    "\n",
    "# Close dataset\n",
    "layer = None\n",
    "ds = None"
   ]
  },
  {
   "cell_type": "code",
   "execution_count": 12,
   "metadata": {},
   "outputs": [
    {
     "data": {
      "text/plain": [
       "asphalt            1639190\n",
       "unpaved             266035\n",
       "paved               230889\n",
       "concrete            153371\n",
       "gravel              105499\n",
       "dirt                 28363\n",
       "concrete:plates      14310\n",
       "compacted             8585\n",
       "paving_stones         2562\n",
       "ground                2353\n",
       "bricks                1751\n",
       "Name: surface, dtype: int64"
      ]
     },
     "execution_count": 12,
     "metadata": {},
     "output_type": "execute_result"
    }
   ],
   "source": [
    "import pandas as pd\n",
    "\n",
    "df = pd.DataFrame(feature_data, columns=['osm_id', 'wkt', 'highway', 'surface']).set_index('osm_id')\n",
    "unique_surface = df['surface'].value_counts()\n",
    "unique_surface = unique_surface[unique_surface > 1000]\n",
    "unique_surface"
   ]
  },
  {
   "cell_type": "code",
   "execution_count": 17,
   "metadata": {},
   "outputs": [
    {
     "name": "stdout",
     "output_type": "stream",
     "text": [
      "Filtered surface tag account for 99.8% of all driveable ways.\n"
     ]
    }
   ],
   "source": [
    "pc = unique_surface.sum() / len(feature_data)\n",
    "print(f'Filtered surface tag account for {pc:.1%} of all driveable ways.')"
   ]
  },
  {
   "attachments": {},
   "cell_type": "markdown",
   "metadata": {},
   "source": [
    "I can live with that."
   ]
  },
  {
   "cell_type": "code",
   "execution_count": null,
   "metadata": {},
   "outputs": [],
   "source": [
    "\n",
    "\n",
    "# Start a new dataset\n",
    "print('Saving filtered features...')\n",
    "driver = ogr.GetDriverByName('GPKG')\n",
    "ds = driver.CreateDataSource(str(filtered_gpkg_path))\n",
    "layer = ds.CreateLayer('roads', srs=srs_wgs84, geom_type=ogr.wkbLineString)\n",
    "\n",
    "# Define fields\n",
    "id_field = ogr.FieldDefn('osmid', ogr.OFTInteger64)\n",
    "highway_field = ogr.FieldDefn('highway', ogr.OFTString)\n",
    "surface_field = ogr.FieldDefn('surface', ogr.OFTString)\n",
    "for field in (id_field, highway_field, surface_field):\n",
    "    layer.CreateField(field)\n",
    "\n",
    "# Add features\n",
    "feature_defn = layer.GetLayerDefn()\n",
    "for idx, (osm_id, wkt_str, highway,\n",
    "            surface_type) in tqdm(enumerate(feature_data)):\n",
    "\n",
    "    # New feature\n",
    "    feat = ogr.Feature(feature_defn)\n",
    "\n",
    "    # Set geometry\n",
    "    geom = ogr.CreateGeometryFromWkt(wkt_str)\n",
    "    feat.SetGeometry(geom)\n",
    "\n",
    "    # Set fields\n",
    "    feat.SetField('osmid', osm_id)\n",
    "    feat.SetField('highway', highway)\n",
    "    feat.SetField('surface', surface_type)\n",
    "\n",
    "    # Flush\n",
    "    layer.CreateFeature(feat)\n",
    "    feat = None\n",
    "\n",
    "# Close dataset\n",
    "layer = None\n",
    "ds = None"
   ]
  }
 ],
 "metadata": {
  "kernelspec": {
   "display_name": "venv",
   "language": "python",
   "name": "python3"
  },
  "language_info": {
   "codemirror_mode": {
    "name": "ipython",
    "version": 3
   },
   "file_extension": ".py",
   "mimetype": "text/x-python",
   "name": "python",
   "nbconvert_exporter": "python",
   "pygments_lexer": "ipython3",
   "version": "3.10.10"
  },
  "orig_nbformat": 4
 },
 "nbformat": 4,
 "nbformat_minor": 2
}
